{
 "cells": [
  {
   "cell_type": "markdown",
   "metadata": {},
   "source": [
    "# 24 Jun2 2019 Objectives:"
   ]
  },
  {
   "cell_type": "code",
   "execution_count": 8,
   "metadata": {},
   "outputs": [],
   "source": [
    "# Function to generate Marks\n",
    "\n",
    "import random as rnd\n",
    "def generateMarks(filename, nstu, lb, ub):\n",
    "    with open(filename,'a') as fh:\n",
    "        for i in range(nstu):\n",
    "            line=str(rnd.randint(lb, ub))+\"\\n\"\n",
    "            fh.write(line)\n",
    "    return\n",
    "filename = \"DataFiles/marks.txt\"\n",
    "generateMarks(filename, 5, 1, 100)"
   ]
  },
  {
   "cell_type": "code",
   "execution_count": 11,
   "metadata": {},
   "outputs": [
    {
     "name": "stdout",
     "output_type": "stream",
     "text": [
      "41\n",
      "19\n",
      "54\n",
      "62\n",
      "67\n"
     ]
    }
   ],
   "source": [
    "def showMarks(filename):\n",
    "    with open(filename,'r') as fh:\n",
    "        for line in fh:\n",
    "            print(line.strip())\n",
    "    return\n",
    "filename = \"DataFiles/marks.txt\"          \n",
    "showMarks(filename)   "
   ]
  },
  {
   "cell_type": "code",
   "execution_count": 13,
   "metadata": {},
   "outputs": [
    {
     "name": "stdout",
     "output_type": "stream",
     "text": [
      "Class Avereage:  48.6\n"
     ]
    }
   ],
   "source": [
    "def classAverage(filename):\n",
    "    with open(filename,'r') as fh:\n",
    "        sm = 0\n",
    "        stuCount = 0\n",
    "        for line in fh:\n",
    "            sm += int(line)\n",
    "            stuCount += 1\n",
    "        return sm/stuCount\n",
    "\n",
    "filename = \"DataFiles/marks.txt\"          \n",
    "print(\"Class Avereage: \",classAverage(filename))\n",
    " "
   ]
  },
  {
   "cell_type": "code",
   "execution_count": 22,
   "metadata": {},
   "outputs": [
    {
     "name": "stdout",
     "output_type": "stream",
     "text": [
      "% of students with distinction:  0\n"
     ]
    }
   ],
   "source": [
    "def distictionCount(filename):\n",
    "    count = 0\n",
    "    with open(filename,'r') as fh:\n",
    "        for i in fh:\n",
    "            if int(i) >= 70:\n",
    "                count += 1\n",
    "    return count\n",
    "\n",
    "filename = \"DataFiles/marks.txt\"          \n",
    "print(\"% of students with distinction: \",distictionCount(filename))"
   ]
  },
  {
   "cell_type": "code",
   "execution_count": 31,
   "metadata": {
    "scrolled": true
   },
   "outputs": [
    {
     "name": "stdout",
     "output_type": "stream",
     "text": [
      "class highest marks is :  1\n"
     ]
    }
   ],
   "source": [
    "def highestMarks(filename):\n",
    "    \n",
    "    with open(filename,'r') as fh:\n",
    "        li = list(fh)\n",
    "    print(\"class highest marks is : \",li.count(max(li)))\n",
    "    return\n",
    "filename = \"DataFiles/marks.txt\"          \n",
    "highestMarks(filename)"
   ]
  },
  {
   "cell_type": "code",
   "execution_count": 36,
   "metadata": {
    "scrolled": true
   },
   "outputs": [
    {
     "name": "stdout",
     "output_type": "stream",
     "text": [
      "No.Of Students Passed:  5\n"
     ]
    }
   ],
   "source": [
    "def passedCount(filename):\n",
    "    count = 0\n",
    "    with open(filename,'r') as fh:\n",
    "        for i in fh:\n",
    "            if int(i) >= 35:\n",
    "                count += 1\n",
    "    return count\n",
    "filename = \"DataFiles/marks.txt\"          \n",
    "print(\"No.Of Students Passed: \",passedCount(filename))"
   ]
  },
  {
   "cell_type": "code",
   "execution_count": 38,
   "metadata": {},
   "outputs": [
    {
     "name": "stdout",
     "output_type": "stream",
     "text": [
      "No.Of Students Failed:  2\n"
     ]
    }
   ],
   "source": [
    "def failedCount(filename):\n",
    "    count = 0\n",
    "    with open(filename,'r') as fh:\n",
    "        for i in fh:\n",
    "            if int(i) <= 35:\n",
    "                count += 1\n",
    "    return count\n",
    "filename = \"DataFiles/marks.txt\"          \n",
    "print(\"No.Of Students Failed: \",failedCount(filename))"
   ]
  },
  {
   "cell_type": "code",
   "execution_count": 33,
   "metadata": {},
   "outputs": [
    {
     "name": "stdout",
     "output_type": "stream",
     "text": [
      "class lowest marks is :  1\n"
     ]
    }
   ],
   "source": [
    "def lowestMarks(filename):\n",
    "    with open(filename,'r') as fh:\n",
    "        li = list(fh)\n",
    "    print(\"class lowest marks is : \",li.count(min(li)))\n",
    "    return\n",
    "filename = \"DataFiles/marks.txt\"          \n",
    "lowestMarks(filename)"
   ]
  },
  {
   "cell_type": "code",
   "execution_count": 39,
   "metadata": {},
   "outputs": [
    {
     "name": "stdout",
     "output_type": "stream",
     "text": [
      "Total students marks: \n",
      "41\n",
      "19\n",
      "54\n",
      "62\n",
      "67\n",
      "19\n",
      "67\n",
      "Class Avereage:  47.0\n",
      "% of students with distinction:  0\n",
      "No.Of Students Passed:  5\n",
      "No.Of Students Failed:  2\n",
      "class highest marks is :  2\n",
      "class lowest marks is :  2\n"
     ]
    }
   ],
   "source": [
    "def classReport(filename):\n",
    "    print(\"Total students marks: \")\n",
    "    showMarks(filename)\n",
    "    print(\"Class Avereage: \",classAverage(filename)) \n",
    "    print(\"% of students with distinction: \",distictionCount(filename))\n",
    "    print(\"No.Of Students Passed: \",passedCount(filename))\n",
    "    print(\"No.Of Students Failed: \",failedCount(filename))\n",
    "    highestMarks(filename)\n",
    "    lowestMarks(filename)\n",
    "\n",
    "filename = \"DataFiles/marks.txt\"          \n",
    "classReport(filename)  "
   ]
  },
  {
   "cell_type": "code",
   "execution_count": null,
   "metadata": {},
   "outputs": [],
   "source": []
  }
 ],
 "metadata": {
  "kernelspec": {
   "display_name": "Python 3",
   "language": "python",
   "name": "python3"
  },
  "language_info": {
   "codemirror_mode": {
    "name": "ipython",
    "version": 3
   },
   "file_extension": ".py",
   "mimetype": "text/x-python",
   "name": "python",
   "nbconvert_exporter": "python",
   "pygments_lexer": "ipython3",
   "version": "3.7.3"
  }
 },
 "nbformat": 4,
 "nbformat_minor": 2
}
