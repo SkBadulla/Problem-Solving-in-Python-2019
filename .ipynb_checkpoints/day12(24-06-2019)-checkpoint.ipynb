{
 "cells": [
  {
   "cell_type": "markdown",
   "metadata": {},
   "source": [
    "# 24 Jun2 2019 Objectives:"
   ]
  },
  {
   "cell_type": "code",
   "execution_count": 8,
   "metadata": {},
   "outputs": [],
   "source": [
    "# Function to generate Marks\n",
    "\n",
    "import random as rnd\n",
    "def generateMarks(filename, nstu, lb, ub):\n",
    "    with open(filename,'a') as fh:\n",
    "        for i in range(nstu):\n",
    "            line=str(rnd.randint(lb, ub))+\"\\n\"\n",
    "            fh.write(line)\n",
    "    return\n",
    "filename = \"DataFiles/marks.txt\"\n",
    "generateMarks(filename, 5, 1, 100)"
   ]
  },
  {
   "cell_type": "code",
   "execution_count": 11,
   "metadata": {},
   "outputs": [
    {
     "name": "stdout",
     "output_type": "stream",
     "text": [
      "41\n",
      "19\n",
      "54\n",
      "62\n",
      "67\n"
     ]
    }
   ],
   "source": [
    "def showMarks(filename):\n",
    "    with open(filename,'r') as fh:\n",
    "        for line in fh:\n",
    "            print(line.strip())\n",
    "    return\n",
    "filename = \"DataFiles/marks.txt\"          \n",
    "showMarks(filename)   "
   ]
  },
  {
   "cell_type": "code",
   "execution_count": 13,
   "metadata": {},
   "outputs": [
    {
     "name": "stdout",
     "output_type": "stream",
     "text": [
      "Class Avereage:  48.6\n"
     ]
    }
   ],
   "source": [
    "def classAverage(filename):\n",
    "    with open(filename,'r') as fh:\n",
    "        sm = 0\n",
    "        stuCount = 0\n",
    "        for line in fh:\n",
    "            sm += int(line)\n",
    "            stuCount += 1\n",
    "        return sm/stuCount\n",
    "\n",
    "filename = \"DataFiles/marks.txt\"          \n",
    "print(\"Class Avereage: \",classAverage(filename))\n",
    " "
   ]
  },
  {
   "cell_type": "code",
   "execution_count": 22,
   "metadata": {},
   "outputs": [
    {
     "name": "stdout",
     "output_type": "stream",
     "text": [
      "% of students with distinction:  0\n"
     ]
    }
   ],
   "source": [
    "def distictionCount(filename):\n",
    "    count = 0\n",
    "    with open(filename,'r') as fh:\n",
    "        for i in fh:\n",
    "            if int(i) >= 70:\n",
    "                count += 1\n",
    "    return count\n",
    "\n",
    "filename = \"DataFiles/marks.txt\"          \n",
    "print(\"% of students with distinction: \",distictionCount(filename))"
   ]
  },
  {
   "cell_type": "code",
   "execution_count": 24,
   "metadata": {},
   "outputs": [
    {
     "ename": "ValueError",
     "evalue": "max() arg is an empty sequence",
     "output_type": "error",
     "traceback": [
      "\u001b[1;31m---------------------------------------------------------------------------\u001b[0m",
      "\u001b[1;31mValueError\u001b[0m                                Traceback (most recent call last)",
      "\u001b[1;32m<ipython-input-24-87918bf458d7>\u001b[0m in \u001b[0;36m<module>\u001b[1;34m\u001b[0m\n\u001b[0;32m      4\u001b[0m     \u001b[1;32mreturn\u001b[0m\u001b[1;33m\u001b[0m\u001b[1;33m\u001b[0m\u001b[0m\n\u001b[0;32m      5\u001b[0m \u001b[0mfilename\u001b[0m \u001b[1;33m=\u001b[0m \u001b[1;34m\"DataFiles/marks.txt\"\u001b[0m\u001b[1;33m\u001b[0m\u001b[1;33m\u001b[0m\u001b[0m\n\u001b[1;32m----> 6\u001b[1;33m \u001b[0mhighestMarks\u001b[0m\u001b[1;33m(\u001b[0m\u001b[0mfilename\u001b[0m\u001b[1;33m)\u001b[0m\u001b[1;33m\u001b[0m\u001b[1;33m\u001b[0m\u001b[0m\n\u001b[0m",
      "\u001b[1;32m<ipython-input-24-87918bf458d7>\u001b[0m in \u001b[0;36mhighestMarks\u001b[1;34m(filename)\u001b[0m\n\u001b[0;32m      1\u001b[0m \u001b[1;32mdef\u001b[0m \u001b[0mhighestMarks\u001b[0m\u001b[1;33m(\u001b[0m\u001b[0mfilename\u001b[0m\u001b[1;33m)\u001b[0m\u001b[1;33m:\u001b[0m\u001b[1;33m\u001b[0m\u001b[1;33m\u001b[0m\u001b[0m\n\u001b[0;32m      2\u001b[0m     \u001b[1;32mwith\u001b[0m \u001b[0mopen\u001b[0m\u001b[1;33m(\u001b[0m\u001b[0mfilename\u001b[0m\u001b[1;33m,\u001b[0m\u001b[1;34m'r'\u001b[0m\u001b[1;33m)\u001b[0m \u001b[1;32mas\u001b[0m \u001b[0mfh\u001b[0m\u001b[1;33m:\u001b[0m\u001b[1;33m\u001b[0m\u001b[1;33m\u001b[0m\u001b[0m\n\u001b[1;32m----> 3\u001b[1;33m         \u001b[0mprint\u001b[0m\u001b[1;33m(\u001b[0m\u001b[1;34m\"class highest marks is : \"\u001b[0m\u001b[1;33m,\u001b[0m\u001b[0mlist\u001b[0m\u001b[1;33m(\u001b[0m\u001b[0mfh\u001b[0m\u001b[1;33m)\u001b[0m\u001b[1;33m.\u001b[0m\u001b[0mcount\u001b[0m\u001b[1;33m(\u001b[0m\u001b[0mmax\u001b[0m\u001b[1;33m(\u001b[0m\u001b[0mfh\u001b[0m\u001b[1;33m)\u001b[0m\u001b[1;33m)\u001b[0m\u001b[1;33m)\u001b[0m\u001b[1;33m\u001b[0m\u001b[1;33m\u001b[0m\u001b[0m\n\u001b[0m\u001b[0;32m      4\u001b[0m     \u001b[1;32mreturn\u001b[0m\u001b[1;33m\u001b[0m\u001b[1;33m\u001b[0m\u001b[0m\n\u001b[0;32m      5\u001b[0m \u001b[0mfilename\u001b[0m \u001b[1;33m=\u001b[0m \u001b[1;34m\"DataFiles/marks.txt\"\u001b[0m\u001b[1;33m\u001b[0m\u001b[1;33m\u001b[0m\u001b[0m\n",
      "\u001b[1;31mValueError\u001b[0m: max() arg is an empty sequence"
     ]
    }
   ],
   "source": [
    "def highestMarks(filename):\n",
    "    with open(filename,'r') as fh:\n",
    "        print(\"class highest marks is : \",max(fh))\n",
    "    return\n",
    "filename = \"DataFiles/marks.txt\"          \n",
    "highestMarks(filename)"
   ]
  },
  {
   "cell_type": "code",
   "execution_count": 20,
   "metadata": {},
   "outputs": [
    {
     "name": "stdout",
     "output_type": "stream",
     "text": [
      "class lowest marks is :  19\n",
      "\n"
     ]
    }
   ],
   "source": [
    "def lowestMarks(filename):\n",
    "    with open(filename,'r') as fh:\n",
    "        print(\"class lowest marks is : \",min(fh))\n",
    "    return\n",
    "filename = \"DataFiles/marks.txt\"          \n",
    "lowestMarks(filename)"
   ]
  },
  {
   "cell_type": "code",
   "execution_count": null,
   "metadata": {},
   "outputs": [],
   "source": [
    "def classReport(filename):\n",
    "    showMarks(filename)\n",
    "    \n",
    "\n",
    "\n",
    "filename = \"DataFiles/marks.txt\"          \n",
    "classReport(filename)  "
   ]
  }
 ],
 "metadata": {
  "kernelspec": {
   "display_name": "Python 3",
   "language": "python",
   "name": "python3"
  },
  "language_info": {
   "codemirror_mode": {
    "name": "ipython",
    "version": 3
   },
   "file_extension": ".py",
   "mimetype": "text/x-python",
   "name": "python",
   "nbconvert_exporter": "python",
   "pygments_lexer": "ipython3",
   "version": "3.7.3"
  }
 },
 "nbformat": 4,
 "nbformat_minor": 2
}
