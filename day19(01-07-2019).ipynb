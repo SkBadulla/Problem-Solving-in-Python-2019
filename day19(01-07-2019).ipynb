{
 "cells": [
  {
   "cell_type": "code",
   "execution_count": 1,
   "metadata": {},
   "outputs": [
    {
     "name": "stdout",
     "output_type": "stream",
     "text": [
      "3\n",
      "se ba#dull@a\n",
      "se\n",
      "Name :badulla\n",
      "dev sekh%ar$\n",
      "dev\n",
      "Name :sekhar\n",
      "eng #husse@an\n",
      "eng\n",
      "Name :hussean\n"
     ]
    }
   ],
   "source": [
    "def empDetails(empinfo):\n",
    "    print(empinfo[0])\n",
    "    s1 = \"\"\n",
    "    for ch in empinfo[1]:\n",
    "        if ch.isalpha():\n",
    "            s1+=ch\n",
    "    print(\"Name :\"+s1)\n",
    "t = int(input())\n",
    "for i in range(t):\n",
    "    li = input().split()\n",
    "    empDetails(li)"
   ]
  },
  {
   "cell_type": "code",
   "execution_count": 4,
   "metadata": {},
   "outputs": [
    {
     "name": "stdout",
     "output_type": "stream",
     "text": [
      "5\n",
      "4 5 -5 -4 6 \n",
      "-5\n"
     ]
    }
   ],
   "source": [
    "def zeroForthest(li):\n",
    "    li.sort()\n",
    "    if abs(li[0]) < li[-1]:\n",
    "        print(li[0])\n",
    "    \n",
    "    else:\n",
    "        print(li[-1])\n",
    "      \n",
    "a = int(input())\n",
    "li = list(map(int,input().split()))\n",
    "\n",
    "zeroForthest(li)"
   ]
  },
  {
   "cell_type": "code",
   "execution_count": 9,
   "metadata": {},
   "outputs": [
    {
     "data": {
      "text/plain": [
       "['MAXYEAR',\n",
       " 'MINYEAR',\n",
       " '__builtins__',\n",
       " '__cached__',\n",
       " '__doc__',\n",
       " '__file__',\n",
       " '__loader__',\n",
       " '__name__',\n",
       " '__package__',\n",
       " '__spec__',\n",
       " 'date',\n",
       " 'datetime',\n",
       " 'datetime_CAPI',\n",
       " 'sys',\n",
       " 'time',\n",
       " 'timedelta',\n",
       " 'timezone',\n",
       " 'tzinfo']"
      ]
     },
     "execution_count": 9,
     "metadata": {},
     "output_type": "execute_result"
    }
   ],
   "source": [
    "import datetime as dt\n",
    "\n",
    "dir(dt)\n"
   ]
  },
  {
   "cell_type": "code",
   "execution_count": 23,
   "metadata": {},
   "outputs": [
    {
     "ename": "SyntaxError",
     "evalue": "invalid token (<ipython-input-23-076d9d46c76a>, line 2)",
     "output_type": "error",
     "traceback": [
      "\u001b[1;36m  File \u001b[1;32m\"<ipython-input-23-076d9d46c76a>\"\u001b[1;36m, line \u001b[1;32m2\u001b[0m\n\u001b[1;33m    cl.weekday(1994,7,04)\u001b[0m\n\u001b[1;37m                       ^\u001b[0m\n\u001b[1;31mSyntaxError\u001b[0m\u001b[1;31m:\u001b[0m invalid token\n"
     ]
    }
   ],
   "source": [
    "import calendar as cl\n",
    "cl.weekday(1994,7,04)"
   ]
  },
  {
   "cell_type": "code",
   "execution_count": 27,
   "metadata": {},
   "outputs": [
    {
     "name": "stdout",
     "output_type": "stream",
     "text": [
      "Thursday\n"
     ]
    }
   ],
   "source": [
    "# Python program to Find day of  \n",
    "# the week for a given date \n",
    "import calendar \n",
    "  \n",
    "def findDay(date): \n",
    "    day, month, year = (int(i) for i in date.split(' '))     \n",
    "    dayNumber = calendar.weekday(year, month, day) \n",
    "    days =[\"Monday\", \"Tuesday\", \"Wednesday\", \"Thursday\", \n",
    "                         \"Friday\", \"Saturday\", \"Sunday\"] \n",
    "    return (days[dayNumber]) \n",
    "  \n",
    "# Driver program \n",
    "date = '14 07 1994'\n",
    "print(findDay(date)) "
   ]
  },
  {
   "cell_type": "code",
   "execution_count": 31,
   "metadata": {},
   "outputs": [
    {
     "data": {
      "text/plain": [
       "['1', '2', '5']"
      ]
     },
     "execution_count": 31,
     "metadata": {},
     "output_type": "execute_result"
    }
   ],
   "source": [
    "l = ['2','1','5']\n",
    "l.sort()\n",
    "l"
   ]
  },
  {
   "cell_type": "code",
   "execution_count": 40,
   "metadata": {},
   "outputs": [
    {
     "data": {
      "text/plain": [
       "5"
      ]
     },
     "execution_count": 40,
     "metadata": {},
     "output_type": "execute_result"
    }
   ],
   "source": [
    "# find length of list or string without using len() and for loop\n",
    "from functools import reduce \n",
    "reduce(lambda x,y : x+1, [2,2,3,4,5], 0)\n"
   ]
  },
  {
   "cell_type": "code",
   "execution_count": 41,
   "metadata": {},
   "outputs": [
    {
     "data": {
      "text/plain": [
       "0"
      ]
     },
     "execution_count": 41,
     "metadata": {},
     "output_type": "execute_result"
    }
   ],
   "source": [
    "0%2"
   ]
  },
  {
   "cell_type": "code",
   "execution_count": null,
   "metadata": {},
   "outputs": [],
   "source": []
  }
 ],
 "metadata": {
  "kernelspec": {
   "display_name": "Python 3",
   "language": "python",
   "name": "python3"
  },
  "language_info": {
   "codemirror_mode": {
    "name": "ipython",
    "version": 3
   },
   "file_extension": ".py",
   "mimetype": "text/x-python",
   "name": "python",
   "nbconvert_exporter": "python",
   "pygments_lexer": "ipython3",
   "version": "3.7.3"
  }
 },
 "nbformat": 4,
 "nbformat_minor": 2
}
