{
 "cells": [
  {
   "cell_type": "markdown",
   "metadata": {},
   "source": [
    "### 1.Print even and odd numbers up to given range.\n",
    "\n",
    "### 2.print given number is prime or not.\n",
    "\n",
    "### 3.Print second Max Ex: 12 34 23 45 65 o/p:45\n",
    "\n",
    "### 3. Print prime numbers up to given range.\n",
    "\n",
    "### 4.Print factorial of a given number if it is a prime otherwise print power of the value.\n",
    "\n",
    "\n",
    "### 5.print count and sum of digits in a given string\n",
    "\n",
    "### 6.Print factorial of a given number if the length of a string is  prime otherwise print string length\n",
    "\n",
    "### 7.\n"
   ]
  },
  {
   "cell_type": "code",
   "execution_count": null,
   "metadata": {},
   "outputs": [],
   "source": []
  },
  {
   "cell_type": "code",
   "execution_count": null,
   "metadata": {},
   "outputs": [],
   "source": []
  },
  {
   "cell_type": "code",
   "execution_count": null,
   "metadata": {},
   "outputs": [],
   "source": []
  }
 ],
 "metadata": {
  "kernelspec": {
   "display_name": "Python 3",
   "language": "python",
   "name": "python3"
  },
  "language_info": {
   "codemirror_mode": {
    "name": "ipython",
    "version": 3
   },
   "file_extension": ".py",
   "mimetype": "text/x-python",
   "name": "python",
   "nbconvert_exporter": "python",
   "pygments_lexer": "ipython3",
   "version": "3.7.3"
  }
 },
 "nbformat": 4,
 "nbformat_minor": 2
}
