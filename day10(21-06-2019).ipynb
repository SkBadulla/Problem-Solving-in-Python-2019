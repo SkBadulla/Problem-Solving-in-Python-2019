{
 "cells": [
  {
   "cell_type": "code",
   "execution_count": 1,
   "metadata": {},
   "outputs": [
    {
     "name": "stdout",
     "output_type": "stream",
     "text": [
      "siva,9965742890,siva.sk@apssdc.in\n",
      "abdul,3456789021,abdul.sk@gmail.com\n",
      "Siva,9490105208,siva.manala@apssdc.in\n"
     ]
    }
   ],
   "source": [
    "\n",
    "def listOfContacts(filename):\n",
    "    with open(filename, 'r') as fh:\n",
    "        for line in fh:\n",
    "            print(line.strip())\n",
    "filename = \"DataFiles/contacts.txt\"\n",
    "listOfContacts(filename)"
   ]
  },
  {
   "cell_type": "code",
   "execution_count": null,
   "metadata": {},
   "outputs": [],
   "source": []
  }
 ],
 "metadata": {
  "kernelspec": {
   "display_name": "Python 3",
   "language": "python",
   "name": "python3"
  },
  "language_info": {
   "codemirror_mode": {
    "name": "ipython",
    "version": 3
   },
   "file_extension": ".py",
   "mimetype": "text/x-python",
   "name": "python",
   "nbconvert_exporter": "python",
   "pygments_lexer": "ipython3",
   "version": "3.7.3"
  }
 },
 "nbformat": 4,
 "nbformat_minor": 2
}
