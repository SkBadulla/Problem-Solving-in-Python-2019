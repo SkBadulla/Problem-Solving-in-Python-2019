{
 "cells": [
  {
   "cell_type": "markdown",
   "metadata": {},
   "source": [
    "### 20 June 2019 Objectives:\n",
    "\n",
    "#### Regular Expressions.\n",
    "> - Constructing RE for various use cases.\n",
    "> - RE Module and related in python.\n",
    "> - Improving Contact application with name and phone number validations.\n",
    "#### File Handling.\n",
    "> - Text files.\n",
    "> - Upgrading the contact application to store contact information in text file."
   ]
  },
  {
   "cell_type": "markdown",
   "metadata": {},
   "source": [
    "#### REgular Expression :\n",
    "\n",
    "- Pattern Matching\n",
    "- Symbolic Notation of a pattern\n",
    "    - Pattern : Format which repeats\n",
    "    - Pattern(RE) - represents the set of all strings that match paticular pattern\n",
    "- [0-9] -> Any digit\n",
    "- [a-z] -> Any lower case alphabet\n",
    "- [2468] -> All single digit multiples of 2\n",
    "- [0]{1} -> All multiples of 10\n",
    "- ^[1-9][0-9]*[05]$ ->All multiples of 5\n",
    "- ^[0-9]{10}$->Valid 10 digit numbers\n",
    "- ^[9876][0-9]{9}$-> Valid Mobile  number(starts with 9876 followed by 9 digitd\n",
    "- ^[0-9a-z][0-9a-z_.]{4,18}@[0-9a-z]{3,8}.[a-z]{2,4}$ -> for email\n",
    "- "
   ]
  },
  {
   "cell_type": "code",
   "execution_count": 12,
   "metadata": {},
   "outputs": [
    {
     "data": {
      "text/plain": [
       "True"
      ]
     },
     "execution_count": 12,
     "metadata": {},
     "output_type": "execute_result"
    }
   ],
   "source": [
    "# Function to validate a phone number\n",
    "import re\n",
    "\n",
    "def phoneNumberValidator(number):\n",
    "    \n",
    "    pattern = '^[6-9][0-9]{9}$|^[0][6-9][0-9]{9}$|^[+][9][1][6-9][0-9]{9}$'\n",
    "    if re.match(pattern, str(number)):\n",
    "        #print(\"valid number\")\n",
    "        return True\n",
    "    else:\n",
    "        #print(\"Not valid number\")\n",
    "        return False\n",
    "\n",
    "phoneNumberValidator(9490105208)"
   ]
  },
  {
   "cell_type": "code",
   "execution_count": 24,
   "metadata": {},
   "outputs": [
    {
     "data": {
      "text/plain": [
       "True"
      ]
     },
     "execution_count": 24,
     "metadata": {},
     "output_type": "execute_result"
    }
   ],
   "source": [
    "def emailValidator(email):\n",
    "    pattern = '^[0-9a-z][0-9a-z_.]{4,18}@[0-9a-z]{3,8}.[a-z]{2,4}$'\n",
    "    \n",
    "    if re.match(pattern, str(email)):\n",
    "        #print(\"valid number\")\n",
    "        return True\n",
    "    else:\n",
    "        #print(\"Not valid number\")\n",
    "        return False\n",
    "emailValidator('badulla.sk@appsdc.in')"
   ]
  },
  {
   "cell_type": "code",
   "execution_count": 33,
   "metadata": {},
   "outputs": [
    {
     "name": "stdout",
     "output_type": "stream",
     "text": [
      "Contact siva Added\n"
     ]
    }
   ],
   "source": [
    "contacts = {} # Intialize empty Dictionary\n",
    "\n",
    "def addContact(name,phone,email):\n",
    "    # check that the contact doesnot in contacts\n",
    "    if name not in contacts and phoneNumberValidator(phone) and emailValidator(email) :\n",
    "        contacts.setdefault(name, [phone,email])\n",
    "        print(\"Contact %s Added\" % name)\n",
    "    if not phoneNumberValidator(phone):\n",
    "        print(\"Phone number is invalid\")\n",
    "    if not emailValidator(email):\n",
    "        print(\"Invalid email id\")                             \n",
    "    return\n",
    "addContact('siva','9965742890','siva.sk@apssdc.in')"
   ]
  },
  {
   "cell_type": "code",
   "execution_count": 34,
   "metadata": {},
   "outputs": [
    {
     "data": {
      "text/plain": [
       "{'siva': ['9965742890', 'siva.sk@apssdc.in']}"
      ]
     },
     "execution_count": 34,
     "metadata": {},
     "output_type": "execute_result"
    }
   ],
   "source": [
    "contacts"
   ]
  },
  {
   "cell_type": "code",
   "execution_count": 37,
   "metadata": {},
   "outputs": [
    {
     "name": "stdout",
     "output_type": "stream",
     "text": [
      "siva\n",
      "Phone : 9965742890\n",
      "Email : siva.sk@apssdc.in\n"
     ]
    }
   ],
   "source": [
    "def searchContact(name):\n",
    "    if name not in contacts:\n",
    "        print(\"Contact %s not existed\" % name)\n",
    "    else:\n",
    "        print(name)\n",
    "        print(\"Phone :\",contacts[name][0])\n",
    "        print(\"Email :\",contacts[name][1])\n",
    "searchContact('siva')"
   ]
  },
  {
   "cell_type": "code",
   "execution_count": 38,
   "metadata": {},
   "outputs": [
    {
     "name": "stdout",
     "output_type": "stream",
     "text": [
      "2 added\n"
     ]
    },
    {
     "data": {
      "text/plain": [
       "{'siva': ['9965742890', 'siva.sk@apssdc.in'],\n",
       " 'abdul': ['3456789021', 'abdul.sk@gmail.com'],\n",
       " 'Siva': ['84756834265', 'Sivamanala@apssdc.in']}"
      ]
     },
     "execution_count": 38,
     "metadata": {},
     "output_type": "execute_result"
    }
   ],
   "source": [
    "def importContacts(newContacts):\n",
    "    contacts.update(newContacts)\n",
    "    #print(\"Contact Merging is done\")\n",
    "    print(len(newContacts.keys()),\"added\")\n",
    "    return\n",
    "\n",
    "newContacts={\"abdul\":[\"3456789021\",\"abdul.sk@gmail.com\"],\"Siva\":[\"84756834265\",'Sivamanala@apssdc.in']}\n",
    "importContacts(newContacts)\n",
    "contacts"
   ]
  },
  {
   "cell_type": "code",
   "execution_count": 40,
   "metadata": {},
   "outputs": [
    {
     "name": "stdout",
     "output_type": "stream",
     "text": [
      "Name : siva Phone : 9965742890 Email : siva.sk@apssdc.in\n",
      "Name : abdul Phone : 3456789021 Email : abdul.sk@gmail.com\n",
      "Name : Siva Phone : 84756834265 Email : Sivamanala@apssdc.in\n"
     ]
    }
   ],
   "source": [
    "def listOfContacts():\n",
    "    for key, value in contacts.items():\n",
    "        print(\"Name :\",key,\"Phone :\",value[0],\"Email :\",value[1])\n",
    "    return\n",
    "listOfContacts()"
   ]
  },
  {
   "cell_type": "code",
   "execution_count": 43,
   "metadata": {},
   "outputs": [
    {
     "name": "stdout",
     "output_type": "stream",
     "text": [
      "Contact Siva Modified \n"
     ]
    },
    {
     "data": {
      "text/plain": [
       "{'siva': ['9965742890', 'siva.sk@apssdc.in'],\n",
       " 'abdul': ['3456789021', 'abdul.sk@gmail.com'],\n",
       " 'Siva': ['9490105208', 'siva.manala@apssdc.in']}"
      ]
     },
     "execution_count": 43,
     "metadata": {},
     "output_type": "execute_result"
    }
   ],
   "source": [
    "# Function to edit the contact\n",
    "\n",
    "def editContact(name, phone,email):\n",
    "    # Assignment\n",
    "    if name in contacts:\n",
    "        contacts[name] = [phone,email]\n",
    "        \n",
    "        print(\"Contact %s Modified \" % name)\n",
    "\n",
    "editContact(\"Siva\",\"9490105208\", \"siva.manala@apssdc.in\")\n",
    "contacts"
   ]
  },
  {
   "cell_type": "markdown",
   "metadata": {},
   "source": [
    "### File Handling in python\n",
    "\n",
    "File - Document containing information residing\n",
    "\n",
    "Types - Text, PDF, CSV etc\n",
    "\n",
    "File I/O - Channaling I/O data to files\n",
    "Deafult I/O - Channels - Keyboard / Screen\n",
    "Change i/o channel to files for reading and writing\n",
    "Read a file - IOnput from file\n",
    "Write to a file - Output file\n",
    "\n",
    "Read / Write a file - open(filename,mode)\n",
    "\n"
   ]
  },
  {
   "cell_type": "code",
   "execution_count": 47,
   "metadata": {},
   "outputs": [
    {
     "name": "stdout",
     "output_type": "stream",
     "text": [
      "Line1\n",
      "Line2\n",
      "Line3\n",
      "\n"
     ]
    }
   ],
   "source": [
    "# function to read a file\n",
    "\n",
    "def readFile(filename):\n",
    "    fh = open(filename,'r')\n",
    "    filedata = fh.read()\n",
    "    fh.close()\n",
    "    return filedata\n",
    "filename = \"DataFiles/data.txt\"\n",
    "#print(readFile(filename))\n",
    "filedata = readFile(filename)\n",
    "for line in filedata.split('\\n'):\n",
    "    print(line)"
   ]
  },
  {
   "cell_type": "code",
   "execution_count": 49,
   "metadata": {},
   "outputs": [
    {
     "name": "stdout",
     "output_type": "stream",
     "text": [
      "Line1\n",
      "Line2\n",
      "Line3\n"
     ]
    }
   ],
   "source": [
    "def readFile(filename):\n",
    "    fh = open(filename,'r')\n",
    "    for line in fh:\n",
    "        print(line, end=\"\")\n",
    "    fh.close()\n",
    "    return\n",
    "filedata = readFile(filename)"
   ]
  },
  {
   "cell_type": "code",
   "execution_count": 51,
   "metadata": {},
   "outputs": [
    {
     "name": "stdout",
     "output_type": "stream",
     "text": [
      "Line1\n",
      "Line2\n",
      "Line3\n"
     ]
    }
   ],
   "source": [
    "def printFileData(filename):\n",
    "    with open(filename,'r') as fh:\n",
    "        for line in fh:\n",
    "            print(line, end = \"\")\n",
    "    return\n",
    "filedata = readFile(filename)"
   ]
  },
  {
   "cell_type": "code",
   "execution_count": 57,
   "metadata": {},
   "outputs": [
    {
     "name": "stdout",
     "output_type": "stream",
     "text": [
      "Done\n"
     ]
    }
   ],
   "source": [
    "# Function to write data into a file\n",
    "\n",
    "def writeIntoFile(filename, filedata):\n",
    "    #with open(filename, 'w') as fh:\n",
    "    with open(filename, 'a') as fh:\n",
    "        fh.write(filedata)\n",
    "        print(\"Done\")\n",
    "    return\n",
    "\n",
    "filename = \"DataFiles/data.txt\"\n",
    "filedata = \"new data3\"\n",
    "writeIntoFile(filename, filedata+\"\\n\")"
   ]
  },
  {
   "cell_type": "code",
   "execution_count": 63,
   "metadata": {},
   "outputs": [
    {
     "name": "stdout",
     "output_type": "stream",
     "text": [
      "Done\n"
     ]
    }
   ],
   "source": [
    "def writeIntoFile(filename, filedata):\n",
    "    #with open(filename, 'w') as fh:\n",
    "    with open(filename, 'a') as fh:\n",
    "        #fh.write(filedata)\n",
    "        for name, value in filedata.items():\n",
    "            line = name+\",\"+value[0]+\",\"+value[1]+\"\\n\"\n",
    "            fh.write(line)\n",
    "        print(\"Done\")\n",
    "    return\n",
    "\n",
    "filename = \"DataFiles/contacts.txt\"\n",
    "writeIntoFile(filename, contacts)"
   ]
  },
  {
   "cell_type": "code",
   "execution_count": 59,
   "metadata": {},
   "outputs": [
    {
     "data": {
      "text/plain": [
       "3"
      ]
     },
     "execution_count": 59,
     "metadata": {},
     "output_type": "execute_result"
    }
   ],
   "source": [
    "len(contacts)"
   ]
  },
  {
   "cell_type": "code",
   "execution_count": 64,
   "metadata": {},
   "outputs": [
    {
     "data": {
      "text/plain": [
       "{'siva': ['9965742890', 'siva.sk@apssdc.in'],\n",
       " 'abdul': ['3456789021', 'abdul.sk@gmail.com'],\n",
       " 'Siva': ['9490105208', 'siva.manala@apssdc.in']}"
      ]
     },
     "execution_count": 64,
     "metadata": {},
     "output_type": "execute_result"
    }
   ],
   "source": [
    "contacts"
   ]
  },
  {
   "cell_type": "code",
   "execution_count": 2,
   "metadata": {},
   "outputs": [
    {
     "name": "stdout",
     "output_type": "stream",
     "text": [
      "siva,9965742890,siva.sk@apssdc.in\n",
      "abdul,3456789021,abdul.sk@gmail.com\n",
      "Siva,9490105208,siva.manala@apssdc.in\n"
     ]
    }
   ],
   "source": [
    "def listOfContacts(filename):\n",
    "    with open(filename, 'r') as fh:\n",
    "        for line in fh:\n",
    "            print(line.strip())\n",
    "filename = \"DataFiles/contacts.txt\"\n",
    "listOfContacts(filename)"
   ]
  },
  {
   "cell_type": "code",
   "execution_count": null,
   "metadata": {},
   "outputs": [],
   "source": []
  }
 ],
 "metadata": {
  "kernelspec": {
   "display_name": "Python 3",
   "language": "python",
   "name": "python3"
  },
  "language_info": {
   "codemirror_mode": {
    "name": "ipython",
    "version": 3
   },
   "file_extension": ".py",
   "mimetype": "text/x-python",
   "name": "python",
   "nbconvert_exporter": "python",
   "pygments_lexer": "ipython3",
   "version": "3.7.3"
  }
 },
 "nbformat": 4,
 "nbformat_minor": 2
}
