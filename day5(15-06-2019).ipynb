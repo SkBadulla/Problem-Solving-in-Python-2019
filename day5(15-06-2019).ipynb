{
 "cells": [
  {
   "cell_type": "code",
   "execution_count": 1,
   "metadata": {},
   "outputs": [
    {
     "data": {
      "text/plain": [
       "14"
      ]
     },
     "execution_count": 1,
     "metadata": {},
     "output_type": "execute_result"
    }
   ],
   "source": [
    "# problem1\n",
    "def problem1(a):\n",
    "    sum = 0\n",
    "    for i in range(1,a+1):\n",
    "        sum += i*i\n",
    "    return sum\n",
    "problem1(3)"
   ]
  },
  {
   "cell_type": "code",
   "execution_count": 2,
   "metadata": {},
   "outputs": [
    {
     "data": {
      "text/plain": [
       "-1"
      ]
     },
     "execution_count": 2,
     "metadata": {},
     "output_type": "execute_result"
    }
   ],
   "source": [
    "# problem3\n",
    "\n",
    "def problem3(a,b,c):\n",
    "    for i in range(c,0,-1):\n",
    "        if i%a == b:\n",
    "            return i\n",
    "    return -1\n",
    "# problem3(3,2,9)\n",
    "problem3(1,2,4)"
   ]
  },
  {
   "cell_type": "code",
   "execution_count": 3,
   "metadata": {},
   "outputs": [
    {
     "data": {
      "text/plain": [
       "True"
      ]
     },
     "execution_count": 3,
     "metadata": {},
     "output_type": "execute_result"
    }
   ],
   "source": [
    "'a' in \"badu\""
   ]
  },
  {
   "cell_type": "markdown",
   "metadata": {},
   "source": [
    "## Given two strings of equal length, you have to tell whether they both strings are identical.\n",
    "## Two strings S1 and S2 are said to be identical, if any of the permutation of string S1 is equal to the string S2. See Sample explanation for more details."
   ]
  },
  {
   "cell_type": "code",
   "execution_count": null,
   "metadata": {},
   "outputs": [],
   "source": [
    "def twoStrings(S1, S2):\n",
    "    if sorted(S1) == sorted(S2):\n",
    "        return \"YES\"\n",
    "    else:\n",
    "        return \"NO\"\n",
    "    \n",
    "    \"\"\"if len(S1) is len(S2):\n",
    "        for i in S1:\n",
    "            if i in S2:\n",
    "                continue\n",
    "            else:\n",
    "                return \"NO\"\n",
    "    return \"YES\"\n",
    "    \"\"\"\n",
    "\"\"\"\n",
    "def twoStrings(S1, S2):\n",
    "    sm1, sm2 =0, 0\n",
    "    for i in S1:\n",
    "        sm1 += ord(i)\n",
    "    for j in S2:\n",
    "        sm2 += ord(j)\n",
    "    \n",
    "    if sm1 == sm2:\n",
    "        return \"YES\"\n",
    "    else:\n",
    "        return \"NO\"\n",
    "# Write your code here\n",
    "\"\"\"\n",
    "# Write your code here\n",
    "size = int(input())\n",
    "\n",
    "for i in range(size):\n",
    "    S1, S2 = input().split()\n",
    "    \n",
    "    rs = twoStrings(S1, S2)\n",
    "    print(rs)\n",
    "        "
   ]
  },
  {
   "cell_type": "code",
   "execution_count": 1,
   "metadata": {},
   "outputs": [
    {
     "data": {
      "text/plain": [
       "97"
      ]
     },
     "execution_count": 1,
     "metadata": {},
     "output_type": "execute_result"
    }
   ],
   "source": [
    "ord('a')"
   ]
  },
  {
   "cell_type": "code",
   "execution_count": 3,
   "metadata": {},
   "outputs": [
    {
     "data": {
      "text/plain": [
       "True"
      ]
     },
     "execution_count": 3,
     "metadata": {},
     "output_type": "execute_result"
    }
   ],
   "source": [
    "sorted('hdtr') == sorted('tdrh')"
   ]
  },
  {
   "cell_type": "markdown",
   "metadata": {},
   "source": [
    "### Consider All lowercase Alphabets of the English language. Here we consider each alphabet from a to z to have a certain weight. The weight of the alphabet a is considered to be 1, b to be 2, c to be 3 and so on until z has a weight of 26.\n",
    "### In short, the weight of the alphabet a is 1, and the weight of all other alphabets is the weight of its previous alphabet + 1.\n",
    "### Now, you have been given a String S consisting of lowercase English characters. You need to find the summation of weight of each character in this String.\n",
    "### For example, Consider the String abaHere, the first character a has a weight of 1, the second character b has 2 and the third character a again has a weight of 1. So the summation here is equal to : 1+2+1=4"
   ]
  },
  {
   "cell_type": "code",
   "execution_count": 4,
   "metadata": {},
   "outputs": [
    {
     "name": "stdout",
     "output_type": "stream",
     "text": [
      "4\n"
     ]
    }
   ],
   "source": [
    "# Write your code here\n",
    "def charSum(s):\n",
    "    sm = 0\n",
    "    for ch in s:\n",
    "        sm += (ord(ch)-96)\n",
    "    return sm\n",
    "\n",
    "#S = input()\n",
    "S = 'aba'\n",
    "rs = charSum(S.lower())\n",
    "print(rs)"
   ]
  },
  {
   "cell_type": "code",
   "execution_count": 25,
   "metadata": {},
   "outputs": [
    {
     "name": "stdout",
     "output_type": "stream",
     "text": [
      "14 4\n"
     ]
    }
   ],
   "source": [
    "li = [1,2,3,4,5]\n",
    "sm = sum(li[2-1:5])\n",
    "ln = len(li[2-1:5])\n",
    "print(sm,ln)"
   ]
  },
  {
   "cell_type": "code",
   "execution_count": 3,
   "metadata": {},
   "outputs": [
    {
     "data": {
      "text/plain": [
       "5"
      ]
     },
     "execution_count": 3,
     "metadata": {},
     "output_type": "execute_result"
    }
   ],
   "source": [
    "len(li)\n",
    "ub=6"
   ]
  },
  {
   "cell_type": "code",
   "execution_count": 22,
   "metadata": {},
   "outputs": [
    {
     "name": "stdout",
     "output_type": "stream",
     "text": [
      "[1, 2, 3, 4, 5, 0, 0]\n"
     ]
    }
   ],
   "source": [
    "def playWithNum(li,lb,ub):\n",
    "    if ub >= len(li):\n",
    "        li.append(0)\n",
    "        playWithNum(li,lb,ub)\n",
    "    print(li)\n",
    "playWithNum(li,1,5)"
   ]
  },
  {
   "cell_type": "markdown",
   "metadata": {},
   "source": [
    "### You are given an array of n numbers and q queries. For each query you have to print the floor of the expected value(mean) of the subarray from L to R.\n",
    "\n",
    "### input\n",
    "\n",
    "### First line contains two integers N and Q denoting number of array elements and number of queries.\n",
    "\n",
    "### Next line contains N space seperated integers denoting array elements.\n",
    "\n",
    "### Next Q lines contain two integers L and R(indices of the array).\n",
    "\n",
    "### output\n",
    "\n",
    "### print a single integer denoting the answer."
   ]
  },
  {
   "cell_type": "code",
   "execution_count": null,
   "metadata": {},
   "outputs": [],
   "source": []
  }
 ],
 "metadata": {
  "kernelspec": {
   "display_name": "Python 3",
   "language": "python",
   "name": "python3"
  },
  "language_info": {
   "codemirror_mode": {
    "name": "ipython",
    "version": 3
   },
   "file_extension": ".py",
   "mimetype": "text/x-python",
   "name": "python",
   "nbconvert_exporter": "python",
   "pygments_lexer": "ipython3",
   "version": "3.7.3"
  }
 },
 "nbformat": 4,
 "nbformat_minor": 2
}
