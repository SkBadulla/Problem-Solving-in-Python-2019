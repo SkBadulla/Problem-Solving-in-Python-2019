{
 "cells": [
  {
   "cell_type": "markdown",
   "metadata": {},
   "source": [
    "### Practicing problems in Hackearth\n",
    "> - Anagrams\n",
    "> - Product of Sum "
   ]
  },
  {
   "cell_type": "code",
   "execution_count": 14,
   "metadata": {},
   "outputs": [
    {
     "name": "stdout",
     "output_type": "stream",
     "text": [
      "10\n",
      "Patlu\n"
     ]
    }
   ],
   "source": [
    "def Briks(briks):\n",
    "    k = 0\n",
    "    for i in range(1,n + 1):\n",
    "        briks = briks - k\n",
    "        if briks < 0:\n",
    "            return \"Patlu\"\n",
    "        briks = briks - (k * 2)\n",
    "        if briks < 0:\n",
    "            return \"Motu\"\n",
    "        k+=1\n",
    "        \n",
    "n = int(input())\n",
    "print(Briks(n))\n",
    "    "
   ]
  },
  {
   "cell_type": "markdown",
   "metadata": {},
   "source": [
    "### e-maze-in"
   ]
  },
  {
   "cell_type": "code",
   "execution_count": 17,
   "metadata": {},
   "outputs": [
    {
     "name": "stdout",
     "output_type": "stream",
     "text": [
      "LLRDDR\n",
      "0 -2\n"
     ]
    }
   ],
   "source": [
    "def eMazeIn(S):\n",
    "    a, b = 0, 0\n",
    "    for ch in S:\n",
    "        if ch == 'L':\n",
    "            a -= 1\n",
    "        elif ch == 'R':\n",
    "            a += 1\n",
    "        elif ch == 'U':\n",
    "            b += 1\n",
    "        elif ch == 'D':\n",
    "            b -= 1\n",
    "    print(a,b)\n",
    "S = input()\n",
    "eMazeIn(S)"
   ]
  },
  {
   "cell_type": "markdown",
   "metadata": {},
   "source": [
    "### Ali and Helping innocent people"
   ]
  },
  {
   "cell_type": "code",
   "execution_count": 21,
   "metadata": {},
   "outputs": [
    {
     "name": "stdout",
     "output_type": "stream",
     "text": [
      "13X357-22\n",
      "valid\n"
     ]
    }
   ],
   "source": [
    "def innocentPeople(s):\n",
    "    l = [\"A\",\"E\",\"I\",\"O\",\"U\",\"Y\"]\n",
    "    if ((int(s[0]) + int(s[1])) % 2 == 0) and s[2] not in l and ((int(s[3]) + int(s[4])) % 2 == 0) and ((int(s[4]) + int(s[5])) % 2 == 0) and ((int(s[7]) + int(s[8])) % 2 == 0):\n",
    "        print(\"valid\")\n",
    "    else:\n",
    "        print(\"invalid\")\n",
    "\n",
    "S = input()\n",
    "innocentPeople(S)"
   ]
  },
  {
   "cell_type": "markdown",
   "metadata": {},
   "source": [
    "### Book of Potion making"
   ]
  },
  {
   "cell_type": "code",
   "execution_count": 28,
   "metadata": {},
   "outputs": [
    {
     "name": "stdout",
     "output_type": "stream",
     "text": [
      "1401601499\n",
      "253\n",
      "Legal ISBN\n"
     ]
    }
   ],
   "source": [
    "def isISBN(n):\n",
    "    if len(n) != 10:\n",
    "        print(\"Illegal ISBN\")\n",
    "        return\n",
    "    sum = 0\n",
    "    c = 1\n",
    "    for i in n:\n",
    "        sum += c * int(i)\n",
    "        c += 1\n",
    "    print(sum)\n",
    "    if sum % 11 == 0:\n",
    "        print(\"Legal ISBN\")\n",
    "    else:\n",
    "        print(\"Illegal ISBN\")\n",
    "    return\n",
    "\n",
    "\n",
    "N = input()\n",
    "isISBN(N)\n"
   ]
  },
  {
   "cell_type": "code",
   "execution_count": 24,
   "metadata": {},
   "outputs": [
    {
     "data": {
      "text/plain": [
       "True"
      ]
     },
     "execution_count": 24,
     "metadata": {},
     "output_type": "execute_result"
    }
   ],
   "source": [
    "253%11 == 0"
   ]
  },
  {
   "cell_type": "code",
   "execution_count": null,
   "metadata": {},
   "outputs": [],
   "source": []
  }
 ],
 "metadata": {
  "kernelspec": {
   "display_name": "Python 3",
   "language": "python",
   "name": "python3"
  },
  "language_info": {
   "codemirror_mode": {
    "name": "ipython",
    "version": 3
   },
   "file_extension": ".py",
   "mimetype": "text/x-python",
   "name": "python",
   "nbconvert_exporter": "python",
   "pygments_lexer": "ipython3",
   "version": "3.7.3"
  }
 },
 "nbformat": 4,
 "nbformat_minor": 2
}
