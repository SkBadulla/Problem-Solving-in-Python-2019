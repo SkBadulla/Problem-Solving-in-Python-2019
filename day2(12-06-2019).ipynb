{
 "cells": [
  {
   "cell_type": "markdown",
   "metadata": {},
   "source": [
    "# Problem Solving and Programming\n",
    "\n",
    "### Date 12 June 2019\n",
    "### Day Objectives\n",
    "> * String Slicing\n",
    "> * Functions in Python\n",
    "> * Basic Problems related to conditional statements using functions\n",
    "> * Iteration in Python \n",
    "> * Python Data Structures-List,Tuple and Dictionaries\n",
    "    * Basic Operations on data structures\n",
    "    * Applying Data Structures to solve problems\n",
    "\n"
   ]
  },
  {
   "cell_type": "code",
   "execution_count": null,
   "metadata": {},
   "outputs": [],
   "source": []
  },
  {
   "cell_type": "markdown",
   "metadata": {},
   "source": [
    "## String Slicing"
   ]
  },
  {
   "cell_type": "code",
   "execution_count": 22,
   "metadata": {},
   "outputs": [
    {
     "data": {
      "text/plain": [
       "'h'"
      ]
     },
     "execution_count": 22,
     "metadata": {},
     "output_type": "execute_result"
    }
   ],
   "source": [
    "s1 = \"Python\"\n",
    "s1[0]\n",
    "s1[1]\n",
    "s1[len(s1)-1] # last character of the string\n",
    "s1[-1]# another way to access last character\n",
    "s1[-2]\n",
    "s1[-2:] # for accessing last two characters\n",
    "s1[len(s1)//2] # for accessing middle character\n"
   ]
  },
  {
   "cell_type": "code",
   "execution_count": null,
   "metadata": {},
   "outputs": [],
   "source": []
  }
 ],
 "metadata": {
  "kernelspec": {
   "display_name": "Python 3",
   "language": "python",
   "name": "python3"
  },
  "language_info": {
   "codemirror_mode": {
    "name": "ipython",
    "version": 3
   },
   "file_extension": ".py",
   "mimetype": "text/x-python",
   "name": "python",
   "nbconvert_exporter": "python",
   "pygments_lexer": "ipython3",
   "version": "3.7.3"
  }
 },
 "nbformat": 4,
 "nbformat_minor": 2
}
