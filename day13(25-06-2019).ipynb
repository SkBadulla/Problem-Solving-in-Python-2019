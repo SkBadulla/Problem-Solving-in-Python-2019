{
 "cells": [
  {
   "cell_type": "markdown",
   "metadata": {},
   "source": [
    "## 25 June 2019 Objectives :\n"
   ]
  },
  {
   "cell_type": "code",
   "execution_count": 9,
   "metadata": {},
   "outputs": [
    {
     "name": "stdout",
     "output_type": "stream",
     "text": [
      "python repeated 2 times\n"
     ]
    }
   ],
   "source": [
    "import re\n",
    "def wordReplace(filename, oldWord, newWord):\n",
    "    st = \"\"\n",
    "    with open(filename,'r') as fh:\n",
    "        for line in fh:\n",
    "            st += line.strip()+\"\\n\"\n",
    "    li = re.findall(oldWord,st)\n",
    "    print(oldWord,\"repeated\",len(li),\"times\")\n",
    "    with open(filename,'w') as fh:\n",
    "        content = st.replace(oldWord, newWord)\n",
    "        fh.write(content)\n",
    "    return\n",
    "filename = \"DataFiles/data.txt\"\n",
    "wordReplace(filename,\"python\",\"php\") "
   ]
  },
  {
   "cell_type": "code",
   "execution_count": 1,
   "metadata": {},
   "outputs": [
    {
     "data": {
      "text/plain": [
       "'hi abdulla hello abdulla'"
      ]
     },
     "execution_count": 1,
     "metadata": {},
     "output_type": "execute_result"
    }
   ],
   "source": [
    "\"hi badulla hello badulla\".replace(\"badulla\",\"abdulla\")"
   ]
  },
  {
   "cell_type": "code",
   "execution_count": 4,
   "metadata": {},
   "outputs": [
    {
     "data": {
      "text/plain": [
       "['php', 'php']"
      ]
     },
     "execution_count": 4,
     "metadata": {},
     "output_type": "execute_result"
    }
   ],
   "source": [
    "re.findall(\"php\",\"php is opps\\n php is script\")"
   ]
  },
  {
   "cell_type": "code",
   "execution_count": 16,
   "metadata": {},
   "outputs": [
    {
     "name": "stdout",
     "output_type": "stream",
     "text": [
      "4\n"
     ]
    }
   ],
   "source": [
    "# function to check if two strings are anagrams ar not\n",
    "\n",
    "def checkAnagrams(s1, s2):\n",
    "    if len(s1) != len(s2):\n",
    "        return False\n",
    "    if sorted(s1) == sorted(s2):\n",
    "        return True\n",
    "    return False\n",
    "def charDelationAnagrams(s1, s2):\n",
    "    uncommon = []\n",
    "    for i in s1:\n",
    "        if i not in s2:\n",
    "            uncommon.append(i)\n",
    "    for j in s2:\n",
    "        if j not in s1:\n",
    "            uncommon.append(j)\n",
    "    count = len(uncommon)\n",
    "    freqs1 = {}\n",
    "    freqs2 = {}\n",
    "    uniqs1 = []\n",
    "    uniqs2 = []\n",
    "    for i in s1:\n",
    "        if i not in uncommon and i not in uniqs1:\n",
    "            freqs1[i] = s1.count(i)\n",
    "            uniqs1.append(i)\n",
    "    for i in s2:\n",
    "        if i not in uncommon and i not in uniqs2:\n",
    "            freqs2[i] = s2.count(i)\n",
    "            uniqs2.append(i)\n",
    "            \n",
    "    for key in freqs1.keys():\n",
    "        count += abs(freqs1[key] - freqs2[key])\n",
    "    return count\n",
    "\n",
    "print(charDelationAnagrams(\"cde\", \"abc\"))\n"
   ]
  },
  {
   "cell_type": "code",
   "execution_count": 17,
   "metadata": {},
   "outputs": [
    {
     "name": "stdout",
     "output_type": "stream",
     "text": [
      "1\n",
      "cde\n",
      "abc\n",
      "4\n"
     ]
    }
   ],
   "source": [
    "t=int(input())\n",
    "def anagrams(a,b):\n",
    "   count=0\n",
    "   l=list(set(a))# cde\n",
    "   m=list(set(b))# abc\n",
    "   for i in l:\n",
    "       count+=abs(a.count(i)-b.count(i))\n",
    "   for i in m:\n",
    "       if i not in l:\n",
    "           count+=abs(a.count(i)-b.count(i))\n",
    "   return count\n",
    "       \n",
    "for i in range(t):\n",
    "   a=input()\n",
    "   b=input()\n",
    "   print(anagrams(a,b))"
   ]
  },
  {
   "cell_type": "code",
   "execution_count": null,
   "metadata": {},
   "outputs": [],
   "source": []
  },
  {
   "cell_type": "code",
   "execution_count": 44,
   "metadata": {},
   "outputs": [
    {
     "data": {
      "text/plain": [
       "'c'"
      ]
     },
     "execution_count": 44,
     "metadata": {},
     "output_type": "execute_result"
    }
   ],
   "source": [
    "def kThLorgestFrequency(s, k):\n",
    "    # construct the frequency dictionary for all unique character\n",
    "    unique = []\n",
    "    freq = {}\n",
    "    \n",
    "    for i in s:\n",
    "        if i not in freq.keys() :\n",
    "            freq[i]=s.count(i)\n",
    "    values = sorted(freq.values(),reverse=True)\n",
    "    uniqValues=list(set(values))\n",
    "    uniqValues=sorted(uniqValues,reverse=True)\n",
    "    if k <= len(uniqValues):\n",
    "        kvalues = uniqValues[k-1]\n",
    "    else:\n",
    "        return -1\n",
    "    li = []\n",
    "    for item in freq.items():\n",
    "        if item[1]==kvalues:\n",
    "            li.append(item[0])\n",
    "    return min(li)\n",
    "    #print(freq)\n",
    "            \n",
    "kThLorgestFrequency(\"aaabbcd\",3)            \n",
    "            "
   ]
  },
  {
   "cell_type": "code",
   "execution_count": 27,
   "metadata": {},
   "outputs": [
    {
     "data": {
      "text/plain": [
       "['f', 'd', 'c', 'b', 'a']"
      ]
     },
     "execution_count": 27,
     "metadata": {},
     "output_type": "execute_result"
    }
   ],
   "source": [
    "sorted(\"abcdf\",reverse=True)\n"
   ]
  },
  {
   "cell_type": "code",
   "execution_count": null,
   "metadata": {},
   "outputs": [],
   "source": []
  }
 ],
 "metadata": {
  "kernelspec": {
   "display_name": "Python 3",
   "language": "python",
   "name": "python3"
  },
  "language_info": {
   "codemirror_mode": {
    "name": "ipython",
    "version": 3
   },
   "file_extension": ".py",
   "mimetype": "text/x-python",
   "name": "python",
   "nbconvert_exporter": "python",
   "pygments_lexer": "ipython3",
   "version": "3.7.3"
  }
 },
 "nbformat": 4,
 "nbformat_minor": 2
}
