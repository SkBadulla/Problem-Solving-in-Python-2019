{
 "cells": [
  {
   "cell_type": "markdown",
   "metadata": {},
   "source": [
    "# 13 June 2019 Objectives:"
   ]
  },
  {
   "cell_type": "code",
   "execution_count": 1,
   "metadata": {},
   "outputs": [
    {
     "name": "stdout",
     "output_type": "stream",
     "text": [
      "10 * 100 = 1000\n",
      "10 * 101 = 1010\n",
      "10 * 102 = 1020\n",
      "10 * 103 = 1030\n",
      "10 * 104 = 1040\n",
      "10 * 105 = 1050\n",
      "10 * 106 = 1060\n",
      "10 * 107 = 1070\n",
      "10 * 108 = 1080\n",
      "10 * 109 = 1090\n",
      "10 * 110 = 1100\n"
     ]
    }
   ],
   "source": [
    "# Generate 10 Math table range from 100 to 110\n",
    "def mathTable(n):\n",
    "    for i in range(100,110+1):\n",
    "        print(n, \"*\", i, \"=\", n*i)\n",
    "\n",
    "mathTable(10)"
   ]
  },
  {
   "cell_type": "code",
   "execution_count": 4,
   "metadata": {},
   "outputs": [
    {
     "name": "stdout",
     "output_type": "stream",
     "text": [
      "100 99 98 97 96 95 94 93 92 91 90 89 88 87 86 85 84 83 82 81 80 79 78 77 76 75 74 73 72 71 70 69 68 67 66 65 64 63 62 61 60 59 58 57 56 55 54 53 52 51 50 49 48 47 46 45 44 43 42 41 40 39 38 37 36 35 34 33 32 31 30 29 28 27 26 25 24 23 22 21 20 19 18 17 16 15 14 13 12 11 10 9 8 7 6 5 4 3 2 1 "
     ]
    }
   ],
   "source": [
    "# for printing reverse of a given range\n",
    "for i in range(100,0,-1):\n",
    "    print(i,end=\" \")"
   ]
  },
  {
   "cell_type": "code",
   "execution_count": 9,
   "metadata": {},
   "outputs": [
    {
     "name": "stdout",
     "output_type": "stream",
     "text": [
      "99 97 95 93 91 89 87 85 83 81 79 77 75 73 71 69 67 65 63 61 59 57 55 53 51 49 47 45 43 41 39 37 35 33 31 29 27 25 23 21 19 17 15 13 11 9 7 5 3 1 "
     ]
    }
   ],
   "source": [
    "# function to print the odd nums in revers order\n",
    "def reverseOddNums(start,end):\n",
    "    for i in range(end,start-1,-2):\n",
    "        print(i,end=\" \")\n",
    "    return\n",
    "reverseOddNums(1,99)"
   ]
  },
  {
   "cell_type": "code",
   "execution_count": 10,
   "metadata": {},
   "outputs": [
    {
     "data": {
      "text/plain": [
       "15150"
      ]
     },
     "execution_count": 10,
     "metadata": {},
     "output_type": "execute_result"
    }
   ],
   "source": [
    "# print sum of numbers in a range\n",
    "def sumOfRange(start,end):\n",
    "    sum = 0\n",
    "    for i in range(start,end+1):\n",
    "        sum += i\n",
    "    return sum\n",
    "sumOfRange(100,200)"
   ]
  },
  {
   "cell_type": "code",
   "execution_count": 13,
   "metadata": {},
   "outputs": [
    {
     "data": {
      "text/plain": [
       "150.0"
      ]
     },
     "execution_count": 13,
     "metadata": {},
     "output_type": "execute_result"
    }
   ],
   "source": [
    "# function to calculate the average of a given range\n",
    "def avgOfRange(start,end):\n",
    "    sum=0\n",
    "    count=0\n",
    "    for i in range(start,end+1):\n",
    "        sum += i\n",
    "        count += 1\n",
    "    return sum/count\n",
    "\n",
    "avgOfRange(100,200)"
   ]
  },
  {
   "cell_type": "code",
   "execution_count": 37,
   "metadata": {},
   "outputs": [
    {
     "name": "stdout",
     "output_type": "stream",
     "text": [
      "Enter year: 2020\n"
     ]
    },
    {
     "data": {
      "text/plain": [
       "True"
      ]
     },
     "execution_count": 37,
     "metadata": {},
     "output_type": "execute_result"
    }
   ],
   "source": [
    "# Function to check whether a given year is leap or not\n",
    "\n",
    "def isLeapYear(y):\n",
    "    if(y%400 == 0 or(y%100 != 0 and y%4 == 0)):\n",
    "        return True\n",
    "    else:\n",
    "        return False\n",
    "\n",
    "y = int(input('Enter year: '))\n",
    "\n",
    "isLeapYear(y)"
   ]
  },
  {
   "cell_type": "code",
   "execution_count": 31,
   "metadata": {},
   "outputs": [
    {
     "name": "stdout",
     "output_type": "stream",
     "text": [
      "Enter min value: 2000\n",
      "Enter max value: 2020\n",
      "2000 2004 2008 2012 2016 2020 "
     ]
    }
   ],
   "source": [
    "# Function to generate leap years between given range\n",
    "\n",
    "def NLeapYears(min,max):\n",
    "    for i in range(min,max+1):\n",
    "        if(isLeapYear(i)):\n",
    "            print(i,end=\" \")\n",
    "        else:\n",
    "            continue\n",
    "\n",
    "\n",
    "min = int(input('Enter min value: '))\n",
    "\n",
    "max = int(input('Enter max value: '))\n",
    "\n",
    "NLeapYears(min,max)\n"
   ]
  },
  {
   "cell_type": "code",
   "execution_count": 47,
   "metadata": {},
   "outputs": [
    {
     "name": "stdout",
     "output_type": "stream",
     "text": [
      "Enter min value: 2018\n",
      "Enter max value: 2018\n"
     ]
    },
    {
     "data": {
      "text/plain": [
       "365"
      ]
     },
     "execution_count": 47,
     "metadata": {},
     "output_type": "execute_result"
    }
   ],
   "source": [
    "# Function to caluclate no of days in given time period using leap year\n",
    "\n",
    "def NoOfDays(min,max):\n",
    "    sum=0\n",
    "    for i in range(min,max+1):\n",
    "        if(isLeapYear(i)):\n",
    "            sum=sum+366\n",
    "        else:\n",
    "            sum=sum+365\n",
    "    return sum\n",
    "\n",
    "min = int(input('Enter min value: '))\n",
    "\n",
    "max = int(input('Enter max value: '))\n",
    "# number of days in middle years of 2016 2019\n",
    "NoOfDays(min,max)\n",
    "            "
   ]
  },
  {
   "cell_type": "code",
   "execution_count": 64,
   "metadata": {},
   "outputs": [
    {
     "data": {
      "text/plain": [
       "59"
      ]
     },
     "execution_count": 64,
     "metadata": {},
     "output_type": "execute_result"
    }
   ],
   "source": [
    "def numberOfDaysMonth(month,year):\n",
    "    if month ==2:\n",
    "        if isLeapYear(year):\n",
    "            return 29\n",
    "        return 28\n",
    "    elif (month <=7 and month %2 !=0) or (month >=8 and month %2 == 0):\n",
    "        return 31\n",
    "    else:\n",
    "        return 30\n",
    "#numberOfDaysMonth(2,2020)\n",
    "\n",
    "def daysInStartYear(smonth,syear):\n",
    "    days=0\n",
    "    for month in range(smonth,13):\n",
    "        days += numberOfDaysMonth(month,syear)\n",
    "    return days\n",
    "#daysInStartYear(12,2019)\n",
    "def daysInEndYear(endmonth,endyear):\n",
    "    days = 0\n",
    "    for month in range(1,endmonth+1):\n",
    "        days += numberOfDaysMonth(month,endmonth)\n",
    "    return days\n",
    "#daysInEndYear(2,2020)\n",
    "\n",
    "def numnberOfHours(startmonth,startyear,endmonth,endyear):\n",
    "    days=0\n",
    "    days+=daysInStartYear(startmonth,startyear)\n",
    "    days+=daysInEndYear(endmonth,endyear)\n",
    "    if endyear-startyear ==2:\n",
    "        days+=NoOfDays(startyear+1,startyear+1)\n",
    "    elif endyear-startyear > 2:\n",
    "        days+=NoOfDays(startyear+1,endyear+1)\n",
    "    return days * 24\n",
    "#numnberOfHours(11,1975,3,1999)\n",
    "daysInEndYear(2,2019)\n",
    "#daysInStartYear(1,2020)"
   ]
  },
  {
   "cell_type": "code",
   "execution_count": null,
   "metadata": {},
   "outputs": [],
   "source": []
  },
  {
   "cell_type": "code",
   "execution_count": null,
   "metadata": {},
   "outputs": [],
   "source": [
    "\n"
   ]
  },
  {
   "cell_type": "code",
   "execution_count": null,
   "metadata": {},
   "outputs": [],
   "source": []
  }
 ],
 "metadata": {
  "kernelspec": {
   "display_name": "Python 3",
   "language": "python",
   "name": "python3"
  },
  "language_info": {
   "codemirror_mode": {
    "name": "ipython",
    "version": 3
   },
   "file_extension": ".py",
   "mimetype": "text/x-python",
   "name": "python",
   "nbconvert_exporter": "python",
   "pygments_lexer": "ipython3",
   "version": "3.7.3"
  }
 },
 "nbformat": 4,
 "nbformat_minor": 2
}
